{
 "cells": [
  {
   "cell_type": "markdown",
   "metadata": {},
   "source": [
    "# Getting started with the Data API"
   ]
  },
  {
   "cell_type": "markdown",
   "metadata": {},
   "source": [
    "### **Let's search & download some imagery of farmland near Stockton, CA. Here are the steps we'll follow:**\n",
    "\n",
    "1. Define an Area of Interest (AOI)\n",
    "2. Save our AOI's coordinates to GeoJSON format\n",
    "3. Create a few search filters\n",
    "4. Search for imagery using those filters\n",
    "5. Activate an image for downloading\n",
    "6. Download an image"
   ]
  },
  {
   "cell_type": "markdown",
   "metadata": {},
   "source": [
    "### Requirements\n",
    "- Python 2.7 or 3+\n",
    "- requests\n",
    "- A [Planet API Key](https://www.planet.com/account/#/)"
   ]
  },
  {
   "cell_type": "markdown",
   "metadata": {},
   "source": [
    "## Define an Area of Interest"
   ]
  },
  {
   "cell_type": "markdown",
   "metadata": {},
   "source": [
    "An **Area of Interest** (or *AOI*) is how we define the geographic \"window\" out of which we want to get data.\n",
    "\n",
    "For the Data API, this could be a simple bounding box with four corners, or a more complex shape, as long as the definition is in [GeoJSON](http://geojson.org/) format. \n",
    "\n",
    "For this example, let's just use a simple box. To make it easy, I'll use [geojson.io](http://geojson.io/) to quickly draw a shape & generate GeoJSON output for our box:"
   ]
  },
  {
   "cell_type": "markdown",
   "metadata": {},
   "source": [
    "![geojsonio.png](images/geojsonio.png)"
   ]
  },
  {
   "cell_type": "markdown",
   "metadata": {},
   "source": [
    "We only need the \"geometry\" object for our Data API request:"
   ]
  },
  {
   "cell_type": "code",
   "execution_count": 1,
   "metadata": {
    "scrolled": true
   },
   "outputs": [],
   "source": [
    "# Stockton, CA bounding box (created via geojson.io) \n",
    "geojson_geometry = {\n",
    "  \"type\": \"Polygon\",\n",
    "  \"coordinates\": [\n",
    "    [ \n",
    "      [-121.59290313720705, 37.93444993515032],\n",
    "      [-121.27017974853516, 37.93444993515032],\n",
    "      [-121.27017974853516, 38.065932950547484],\n",
    "      [-121.59290313720705, 38.065932950547484],\n",
    "      [-121.59290313720705, 37.93444993515032]\n",
    "    ]\n",
    "  ]\n",
    "}"
   ]
  },
  {
   "cell_type": "markdown",
   "metadata": {},
   "source": [
    "## Create Filters"
   ]
  },
  {
   "cell_type": "markdown",
   "metadata": {},
   "source": [
    "Now let's set up some **filters** to further constrain our Data API search:"
   ]
  },
  {
   "cell_type": "code",
   "execution_count": 2,
   "metadata": {},
   "outputs": [],
   "source": [
    "# get images that overlap with our AOI \n",
    "geometry_filter = {\n",
    "  \"type\": \"GeometryFilter\",\n",
    "  \"field_name\": \"geometry\",\n",
    "  \"config\": geojson_geometry\n",
    "}\n",
    "\n",
    "# get images acquired within a date range\n",
    "date_range_filter = {\n",
    "  \"type\": \"DateRangeFilter\",\n",
    "  \"field_name\": \"acquired\",\n",
    "  \"config\": {\n",
    "    \"gte\": \"2016-08-31T00:00:00.000Z\",\n",
    "    \"lte\": \"2016-09-01T00:00:00.000Z\"\n",
    "  }\n",
    "}\n",
    "\n",
    "# only get images which have <50% cloud coverage\n",
    "cloud_cover_filter = {\n",
    "  \"type\": \"RangeFilter\",\n",
    "  \"field_name\": \"cloud_cover\",\n",
    "  \"config\": {\n",
    "    \"lte\": 0.5\n",
    "  }\n",
    "}\n",
    "\n",
    "# combine our geo, date, cloud filters\n",
    "combined_filter = {\n",
    "  \"type\": \"AndFilter\",\n",
    "  \"config\": [geometry_filter, date_range_filter, cloud_cover_filter]\n",
    "}"
   ]
  },
  {
   "cell_type": "markdown",
   "metadata": {},
   "source": [
    "## Searching: Items and Assets"
   ]
  },
  {
   "cell_type": "markdown",
   "metadata": {},
   "source": [
    "Planet's products are categorized as **items** and **assets**: an item is a single picture taken by a satellite at a certain time. Items have multiple asset types including the image in different formats, along with supporting metadata files.\n",
    "\n",
    "For this demonstration, let's get a satellite image that is best suited for analytic applications; i.e., a 4-band image with spectral data for Red, Green, Blue and Near-infrared values. To get the image we want, we will specify an item type of `PSScene4Band`, and asset type `analytic`.\n",
    "\n",
    "You can learn more about item & asset types in Planet's Data API [here](https://planet.com/docs/reference/data-api/items-assets/).\n",
    "\n",
    "Now let's search for all the items that match our filters:"
   ]
  },
  {
   "cell_type": "code",
   "execution_count": null,
   "metadata": {},
   "outputs": [],
   "source": [
    "import os\r\n",
    "import json\r\n",
    "import requests\r\n",
    "from requests.auth import HTTPBasicAuth\r\n",
    "\r\n",
    "\"\"\" Authenticating \"\"\"\r\n",
    "planet_keyDict = {\r\n",
    "    'puzhao': 'cc1f2979d2fd47f690f45128ad8272c0',\r\n",
    "    'xikun':'f20e9dbcbccf4895a5290a5322300845'\r\n",
    "}\r\n",
    "os.environ['PL_API_KEY']=planet_keyDict['puzhao']\r\n",
    "\r\n",
    "# API Key stored as an env variable\r\n",
    "PLANET_API_KEY = os.getenv('PL_API_KEY')\r\n",
    "\r\n",
    "\r\n",
    "item_type = \"PSScene4Band\"\r\n",
    "\r\n",
    "# API request object\r\n",
    "search_request = {\r\n",
    "  \"item_types\": [item_type], \r\n",
    "  \"filter\": combined_filter\r\n",
    "}\r\n",
    "\r\n",
    "# fire off the POST request\r\n",
    "search_result = \\\r\n",
    "  requests.post(\r\n",
    "    'https://api.planet.com/data/v1/quick-search',\r\n",
    "    auth=HTTPBasicAuth(PLANET_API_KEY, ''),\r\n",
    "    json=search_request)\r\n",
    "\r\n",
    "print(json.dumps(search_result.json(), indent=1))"
   ]
  },
  {
   "cell_type": "markdown",
   "metadata": {},
   "source": [
    "Our search returns metadata for all of the images within our AOI that match our date range and cloud coverage filters. It looks like there are multiple images here; let's extract a list of just those image IDs:"
   ]
  },
  {
   "cell_type": "code",
   "execution_count": 7,
   "metadata": {},
   "outputs": [
    {
     "name": "stdout",
     "output_type": "stream",
     "text": [
      "[\n",
      "    '20160831_143848_0c79',\n",
      "    '20160831_212703_0c43',\n",
      "    '20160831_212705_0c43',\n",
      "    '20160831_212706_0c43',\n",
      "    '20160831_212707_0c43',\n",
      "    '20160831_212704_0c43',\n",
      "    '20160831_212703_1_0c43',\n",
      "    '20160831_180302_0e26',\n",
      "    '20160831_180303_0e26',\n",
      "    '20160831_180301_0e26',\n",
      "    '20160831_143847_0c79',\n",
      "    '20160831_143846_0c79',\n",
      "    '20160831_143845_0c79',\n",
      "    '20160831_143843_1_0c79',\n",
      "    '20160831_180236_0e0e',\n",
      "    '20160831_180235_0e0e',\n",
      "    '20160831_180234_0e0e'\n",
      "]\n"
     ]
    }
   ],
   "source": [
    "# extract image IDs only\r\n",
    "from prettyprinter import pprint\r\n",
    "\r\n",
    "image_ids = [feature['id'] for feature in search_result.json()['features']]\r\n",
    "pprint(image_ids)"
   ]
  },
  {
   "cell_type": "markdown",
   "metadata": {},
   "source": [
    "Since we just want a single image, and this is only a demonstration, for our purposes here we can arbitrarily select the first image in that list. Let's do that, and get the `asset` list available for that image:"
   ]
  },
  {
   "cell_type": "code",
   "execution_count": null,
   "metadata": {},
   "outputs": [],
   "source": [
    "# For demo purposes, just grab the first image ID\n",
    "id0 = image_ids[0]\n",
    "id0_url = 'https://api.planet.com/data/v1/item-types/{}/items/{}/assets'.format(item_type, id0)\n",
    "\n",
    "# Returns JSON metadata for assets in this ID. Learn more: planet.com/docs/reference/data-api/items-assets/#asset\n",
    "result = \\\n",
    "  requests.get(\n",
    "    id0_url,\n",
    "    auth=HTTPBasicAuth(PLANET_API_KEY, '')\n",
    "  )\n",
    "\n",
    "# List of asset types available for this particular satellite image\n",
    "print(result.json().keys())\n"
   ]
  },
  {
   "cell_type": "markdown",
   "metadata": {},
   "source": [
    " ## Activation and Downloading\n",
    " \n",
    "The Data API does not pre-generate assets, so they are not always immediately availiable to download. In order to download an asset, we first have to **activate** it.\n",
    "\n",
    "Remember, earlier we decided we wanted a color-corrected image best suited for *analytic* applications. We can check the status of the analytic asset we want to download like so:\n",
    " "
   ]
  },
  {
   "cell_type": "code",
   "execution_count": null,
   "metadata": {},
   "outputs": [],
   "source": [
    "# This is \"inactive\" if the \"analytic\" asset has not yet been activated; otherwise 'active'\n",
    "print(result.json()['analytic']['status'])"
   ]
  },
  {
   "cell_type": "markdown",
   "metadata": {},
   "source": [
    "Let's now go ahead and **activate** that asset for download:"
   ]
  },
  {
   "cell_type": "code",
   "execution_count": null,
   "metadata": {},
   "outputs": [],
   "source": [
    "# Parse out useful links\n",
    "links = result.json()[u\"analytic\"][\"_links\"]\n",
    "self_link = links[\"_self\"]\n",
    "activation_link = links[\"activate\"]\n",
    "\n",
    "# Request activation of the 'analytic' asset:\n",
    "activate_result = \\\n",
    "  requests.get(\n",
    "    activation_link,\n",
    "    auth=HTTPBasicAuth(PLANET_API_KEY, '')\n",
    "  )"
   ]
  },
  {
   "cell_type": "markdown",
   "metadata": {},
   "source": [
    "At this point, we wait for the activation status for the asset we are requesting to change from `inactive` to `active`. We can monitor this by polling the \"status\" of the asset:"
   ]
  },
  {
   "cell_type": "code",
   "execution_count": null,
   "metadata": {},
   "outputs": [],
   "source": [
    "activation_status_result = \\\n",
    "  requests.get(\n",
    "    self_link,\n",
    "    auth=HTTPBasicAuth(PLANET_API_KEY, '')\n",
    "  )\n",
    "    \n",
    "print(activation_status_result.json()[\"status\"])"
   ]
  },
  {
   "cell_type": "markdown",
   "metadata": {},
   "source": [
    "Once the asset has finished activating (status is \"active\"), we can download it. \n",
    "\n",
    "*Note: the download link on an active asset is temporary*"
   ]
  },
  {
   "cell_type": "code",
   "execution_count": null,
   "metadata": {},
   "outputs": [],
   "source": [
    "# Image can be downloaded by making a GET with your Planet API key, from here:\n",
    "download_link = activation_status_result.json()[\"location\"]\n",
    "print(download_link)"
   ]
  },
  {
   "cell_type": "markdown",
   "metadata": {},
   "source": [
    "![stockton_thumb.png](images/stockton_thumb.png)"
   ]
  },
  {
   "cell_type": "markdown",
   "metadata": {},
   "source": [
    " "
   ]
  }
 ],
 "metadata": {
  "interpreter": {
   "hash": "6e004ad46386829cf29f52be57251757a790e7dd7941fa18fff2dc89f6f33dcf"
  },
  "kernelspec": {
   "display_name": "Python 3.8.10 64-bit ('ee': conda)",
   "name": "python3"
  },
  "language_info": {
   "codemirror_mode": {
    "name": "ipython",
    "version": 3
   },
   "file_extension": ".py",
   "mimetype": "text/x-python",
   "name": "python",
   "nbconvert_exporter": "python",
   "pygments_lexer": "ipython3",
   "version": "3.8.10"
  }
 },
 "nbformat": 4,
 "nbformat_minor": 1
}